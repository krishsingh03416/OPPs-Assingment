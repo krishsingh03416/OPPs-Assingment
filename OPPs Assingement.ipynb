{
  "nbformat": 4,
  "nbformat_minor": 0,
  "metadata": {
    "colab": {
      "provenance": []
    },
    "kernelspec": {
      "name": "python3",
      "display_name": "Python 3"
    },
    "language_info": {
      "name": "python"
    }
  },
  "cells": [
    {
      "cell_type": "markdown",
      "source": [
        "Q1.What is Object-Oriented Programming (OOP)?\n",
        "- Object-Oriented Programming (OOP) is a programming paradigm based on the concept of \"objects,\" which represent real-world entities. These objects encapsulate data (attributes) and behaviors (methods) into a single unit, promoting modularity and reusability. OOP principles include encapsulation (hiding internal details), inheritance (reusing and extending existing code), polymorphism (using a single interface for different types), and abstraction (simplifying complex systems). Commonly used in languages like Python, Java, and C++, OOP helps organize code, making it easier to develop, maintain, and scale applications."
      ],
      "metadata": {
        "id": "r66fk-ZqzD01"
      }
    },
    {
      "cell_type": "markdown",
      "source": [
        "Q2. What is a class in OOP?\n",
        "- In Object-Oriented Programming (OOP), a class is a blueprint or template for creating objects. It defines the structure and behavior of the objects by specifying their attributes (data) and methods (functions). While the class itself is not an object, it serves as a prototype from which individual instances (objects) are created. For example, a Car class might define attributes like color and model and methods like start() or stop(). Each object created from the class can have its own specific values for the attributes while sharing the same behavior.\n",
        "\n",
        "\n",
        "\n",
        "\n",
        "\n",
        "\n",
        "\n"
      ],
      "metadata": {
        "id": "runF_-cuzvAn"
      }
    },
    {
      "cell_type": "markdown",
      "source": [
        "Q3. What is an object in OOP?\n",
        "- In Object-Oriented Programming (OOP), an object is an instance of a class. It is a concrete entity that combines data (attributes) and behaviors (methods) defined by its class. Objects represent real-world entities and can interact with one another within a program. For example, if Car is a class, then a specific car, such as a red Toyota, would be an object of that class. Each object has its own unique state (attribute values) but shares the structure and behavior specified by its class."
      ],
      "metadata": {
        "id": "mGKUQVja0ADB"
      }
    },
    {
      "cell_type": "markdown",
      "source": [
        "Q4. What is the difference between abstraction and encapsulation?\n",
        "- Abstraction focuses on hiding complexity by showing only the essential features of an object, emphasizing what it does rather than how it works. Encapsulation, on the other hand, is about bundling data and methods together while restricting direct access to internal details, emphasizing data protection and how the functionality is implemented. Abstraction is achieved through abstract classes and interfaces, while encapsulation is implemented using access modifiers like private, protected, and public."
      ],
      "metadata": {
        "id": "h8tXbLS50vts"
      }
    },
    {
      "cell_type": "markdown",
      "source": [
        "Q5. What are dunder methods in Python?\n",
        "- Dunder methods (short for \"double underscore\" methods) in Python are special methods with names surrounded by double underscores, like __init__ or __str__. They enable built-in behavior for Python objects, such as initialization (__init__), string representation (__str__), and operator overloading (__add__, __eq__). These methods allow customization of how objects behave with Python's syntax and built-in functions, enhancing code flexibility and readability."
      ],
      "metadata": {
        "id": "I_MkQ-Zm1Rfk"
      }
    },
    {
      "cell_type": "markdown",
      "source": [
        "Q6. Explain the concept of inheritance in OOP.\n",
        "- Inheritance in Object-Oriented Programming (OOP) is a mechanism where one class (child or subclass) inherits the properties and behaviors of another class (parent or superclass). It promotes code reuse and enables the creation of hierarchical relationships between classes. The child class can use or override the parent class's methods and attributes, and can also define its own unique features."
      ],
      "metadata": {
        "id": "1s6vzRwE1kss"
      }
    },
    {
      "cell_type": "markdown",
      "source": [
        "Q7.What is polymorphism in opp ?\n",
        "- Polymorphism in Object-Oriented Programming (OOP) is the ability of objects to take on multiple forms. It allows the same method or operation to behave differently depending on the object it is called on. This is typically achieved through method overriding in inheritance or interfaces. Polymorphism enables flexibility and reusability by allowing a single interface to handle different types of objects. For example, a `draw()` method in a `Shape` class could be implemented differently in subclasses like `Circle`, `Square`, or `Triangle`."
      ],
      "metadata": {
        "id": "-QW3Sbi94VFx"
      }
    },
    {
      "cell_type": "markdown",
      "source": [
        "Q8. How is encapsulation achieved in Python?\n",
        "-\n",
        "Encapsulation in Python is achieved by restricting access to an object's internal data and methods, typically using access modifiers. Attributes and methods intended to be private are prefixed with a single underscore _ (protected) or double underscore __ (private). While protected members can be accessed in subclasses, private members are name-mangled to prevent direct access. Public methods (no prefix) are provided as interfaces for controlled interaction with private data, often through getter and setter methods, ensuring data integrity and security."
      ],
      "metadata": {
        "id": "oWs-kWPz4mEc"
      }
    },
    {
      "cell_type": "markdown",
      "source": [
        "Q9.What is a constructor in Python?\n",
        "- A constructor in Python is a special method used to initialize an object when it is created. Defined using the `__init__` method, it is called automatically when an instance of a class is instantiated. The constructor can accept parameters to assign initial values to the object's attributes. For example, in a `Person` class, a constructor can set attributes like `name` and `age` when creating a new `Person` object."
      ],
      "metadata": {
        "id": "Axjm7FDj46Cl"
      }
    },
    {
      "cell_type": "markdown",
      "source": [
        "Q10.What are class and static methods in Python?\n",
        "- In Python, **class methods** (`@classmethod`) and **static methods** (`@staticmethod`) are used to define methods that are not bound to instance objects. A **class method** takes `cls` as its first parameter and can modify class-level attributes, making it useful for factory methods or alternative constructors. A **static method**, on the other hand, does not take `self` or `cls` and behaves like a regular function within a class, often used for utility functions related to the class but not dependent on its attributes."
      ],
      "metadata": {
        "id": "voh8y4qE5UZK"
      }
    },
    {
      "cell_type": "markdown",
      "source": [
        "Q11. What is method overloading in Python?\n",
        "- Method overloading in Python refers to defining multiple methods with the same name but different parameters. However, Python does **not** support traditional method overloading like some other languages (e.g., Java or C++). Instead, it can be achieved using **default arguments** or `*args` and `**kwargs` to handle different numbers of parameters in a single method. Additionally, function overloading can be mimicked using the `@singledispatch` decorator from `functools` to define multiple versions of a function based on argument types."
      ],
      "metadata": {
        "id": "mfgGaKIPAp0S"
      }
    },
    {
      "cell_type": "markdown",
      "source": [
        "Q12. What is method overriding in OOP?\n",
        "- Method overriding in Object-Oriented Programming (OOP) occurs when a subclass provides a **specific implementation** of a method that is already defined in its superclass. The overridden method in the subclass must have the **same name, return type, and parameters** as the method in the parent class. This allows the subclass to provide **custom behavior** while maintaining the same method signature. In Python, method overriding is commonly used in **inheritance** and can be enhanced with the `super()` function to call the parent class’s method within the subclass."
      ],
      "metadata": {
        "id": "z2Rptq41A5DP"
      }
    },
    {
      "cell_type": "markdown",
      "source": [
        "Q13.What is a property decorator in Python?\n",
        "- The `@property` decorator in Python is used to **define getter methods** in a class, allowing access to a method as if it were an attribute. It helps implement **encapsulation** by controlling access to instance variables. It can be combined with `@<property_name>.setter` and `@<property_name>.deleter` to define corresponding setter and deleter methods, enabling controlled modification and deletion of attributes. This is useful for adding validation logic or computed properties while keeping a clean, attribute-like syntax."
      ],
      "metadata": {
        "id": "96x0Y2EpBZ1j"
      }
    },
    {
      "cell_type": "markdown",
      "source": [
        "Q14. Why is polymorphism important in OOP?\n",
        "- Polymorphism is important in Object-Oriented Programming (OOP) because it allows objects of different classes to be treated as instances of a common superclass, enabling **code reusability, flexibility, and scalability**. It simplifies code by allowing a single interface (e.g., method names like `draw()` or `speak()`) to be used for different data types, making programs more **modular and maintainable**. Polymorphism is achieved through **method overriding** (runtime polymorphism) and **method overloading** (compile-time polymorphism, though Python handles this differently). This concept is essential for designing extensible systems where new functionality can be added with minimal changes to existing code."
      ],
      "metadata": {
        "id": "u-tdDLCuBsT1"
      }
    },
    {
      "cell_type": "markdown",
      "source": [
        "Q15.What is an abstract class in Python?\n",
        "- An **abstract class** in Python is a class that **cannot be instantiated** and serves as a **blueprint** for other classes. It is defined using the `ABC` (Abstract Base Class) module from the `abc` package and contains **one or more abstract methods**, which are declared but have no implementation in the base class. Subclasses must provide concrete implementations for these abstract methods. Abstract classes are useful for enforcing a **common interface** across multiple derived classes, ensuring that they follow a specific structure while allowing flexibility in their implementation."
      ],
      "metadata": {
        "id": "OYCxB60TB7aY"
      }
    },
    {
      "cell_type": "markdown",
      "source": [
        "Q16.What are the advantages of OOP?\n",
        "- Object-Oriented Programming (OOP) offers advantages like **encapsulation**, which protects data by restricting access, and **inheritance**, which promotes code reusability. **Polymorphism** enhances flexibility by allowing different classes to use the same interface, while **abstraction** simplifies complex systems by hiding unnecessary details. OOP also improves **modularity**, making code more manageable and scalable, and facilitates **collaboration** in large projects by enforcing structured design patterns. These features make OOP ideal for building maintainable and extensible software."
      ],
      "metadata": {
        "id": "vgi1FztLCLUh"
      }
    },
    {
      "cell_type": "markdown",
      "source": [
        "Q17. What is the difference between a class variable and an instance variable?\n",
        "- A **class variable** is shared among all instances of a class, meaning its value is the same across all objects unless explicitly modified at the class level. It is defined **outside any method** and belongs to the class itself. An **instance variable**, on the other hand, is unique to each object and is defined inside methods (typically in `__init__`) using `self`. Instance variables store **object-specific data**, while class variables maintain **shared data** across all instances."
      ],
      "metadata": {
        "id": "lV6lW4K8Chbf"
      }
    },
    {
      "cell_type": "markdown",
      "source": [
        "Q18.What is multiple inheritance in Python?\n",
        "- Multiple inheritance in Python allows a class to inherit attributes and methods from more than one parent class. This enables a child class to combine functionalities from multiple base classes, promoting code reuse and flexibility. However, it can lead to complexity and conflicts, especially with the diamond problem, which Python resolves using the Method Resolution Order (MRO) and the C3 linearization algorithm. Multiple inheritance is useful when a class needs to share behavior from different sources but should be used carefully to maintain code clarity."
      ],
      "metadata": {
        "id": "Ge5-7buMCwox"
      }
    },
    {
      "cell_type": "markdown",
      "source": [
        "Q19.F Explain the purpose of ‘’__str__’ and ‘__repr__’ ‘ methods in Python.\n",
        "- The `__str__` and `__repr__` methods in Python are both used to define how objects are represented as strings, but they serve different purposes. The `__str__` method is intended to return a **user-friendly** or **informal** string representation of an object, useful for display or printing. The `__repr__` method, on the other hand, is meant to provide a **formal** or **developer-friendly** string representation that, ideally, could be used to recreate the object using `eval()`. If `__str__` is not defined, Python falls back on `__repr__` for string conversion."
      ],
      "metadata": {
        "id": "sLAB7negDB8u"
      }
    },
    {
      "cell_type": "markdown",
      "source": [
        "Q20. What is the significance of the ‘super()’ function in Python?\n",
        "- The `super()` function in Python is used to **call methods from a superclass** within a subclass, enabling **method overriding** and promoting code reuse. It allows access to the parent class’s methods and attributes, particularly in **inheritance** hierarchies. This is useful for extending or modifying functionality from a parent class without completely overriding it. `super()` is commonly used to invoke the parent class's `__init__()` method to initialize attributes in a subclass or to call overridden methods to add additional behavior while preserving the parent class's logic.\n"
      ],
      "metadata": {
        "id": "SckL1fc9DP9u"
      }
    },
    {
      "cell_type": "markdown",
      "source": [
        "Q21.What is the significance of the __del__ method in Python?\n",
        "- The `__del__` method in Python is a **destructor** method that is called when an object is about to be **destroyed** or **garbage collected**. It allows for cleanup activities, such as closing files, releasing resources, or performing other finalization tasks before the object is removed from memory. However, the use of `__del__` is generally discouraged in Python due to the uncertainty of the timing of garbage collection, and it is often better to use context managers or explicit resource management techniques like `try...finally` or `with` statements."
      ],
      "metadata": {
        "id": "rJkUH0EjDhNS"
      }
    },
    {
      "cell_type": "markdown",
      "source": [
        "Q22. What is the difference between @staticmethod and @classmethod in Python?\n",
        "- The main difference between `@staticmethod` and `@classmethod` in Python lies in how they handle the class and instance context. A `@staticmethod` does not take `self` or `cls` as its first parameter, meaning it doesn't have access to instance or class-specific data, and is used for utility functions that don't rely on the object's state. A `@classmethod`, on the other hand, takes `cls` as its first parameter, giving it access to the class itself, which allows it to modify class-level attributes or create instances. While both methods belong to the class, `@staticmethod` is typically for functions that are related to the class but don't need access to class or instance properties."
      ],
      "metadata": {
        "id": "n_3bP8SzDv_e"
      }
    },
    {
      "cell_type": "markdown",
      "source": [
        "Q23.How does polymorphism work in Python with inheritance?\n",
        "- In Python, **polymorphism** with inheritance allows subclasses to define their own version of a method that is already defined in the superclass, enabling objects of different classes to be treated through a common interface. When a method is called on an object, Python dynamically determines the method to invoke based on the object's actual class (runtime polymorphism). This allows the same method name to produce different behaviors depending on the object's type, enhancing flexibility and code reusability. Polymorphism is commonly achieved through **method overriding**, where a subclass provides its own implementation of a method defined in the parent class."
      ],
      "metadata": {
        "id": "_VF0DyAAD9W8"
      }
    },
    {
      "cell_type": "markdown",
      "source": [
        "Q24. What is method chaining in Python OOP?\n",
        "- Method chaining in Python OOP is a technique where multiple methods are called on the same object in a single line, with each method returning the object itself (`self`). This allows for a streamlined, concise syntax for performing multiple operations on an object. It is commonly used in patterns like **builder patterns**, where each method modifies the object and returns it, enabling subsequent method calls to be chained together."
      ],
      "metadata": {
        "id": "rGrFJT6NEJme"
      }
    },
    {
      "cell_type": "markdown",
      "source": [
        "Q25. What is the purpose of the __call__ method in Python?\n",
        "- The __call__ method in Python allows an object to be called like a function. By defining __call__ in a class, you can make instances of that class callable and execute custom behavior when the object is invoked. This is useful for creating objects that act like functions or for implementing callable objects that encapsulate specific logic, such as in function-like classes or for creating decorators and higher-order functions. Essentially, __call__ enables objects to be used in a similar way to functions.\n",
        "\n",
        "\n",
        "\n",
        "\n",
        "\n",
        "\n",
        "\n"
      ],
      "metadata": {
        "id": "rQiDJMtkEfKn"
      }
    },
    {
      "cell_type": "markdown",
      "source": [
        "**PRACTICAL QUESTIONS : **"
      ],
      "metadata": {
        "id": "wFMIWozpE7bQ"
      }
    },
    {
      "cell_type": "code",
      "source": [
        "#  Create a parent class Animal with a method speak() that prints a generic message. Create a child class Dog\n",
        "that overrides the speak() method to print \"Bark!\".\n",
        "'''\n",
        "# Parent class\n",
        "class Animal:\n",
        "    def speak(self):\n",
        "        print(\"Generic animal sound\")\n",
        "\n",
        "# Child class\n",
        "class Dog(Animal):\n",
        "    def speak(self):\n",
        "        print(\"Bark!\")\n",
        "\n",
        "# Example usage\n",
        "animal = Animal()\n",
        "animal.speak()  # Output: Generic animal sound\n",
        "\n",
        "dog = Dog()\n",
        "dog.speak()  # Output: Bark!\n",
        "'''"
      ],
      "metadata": {
        "id": "zBeZnswqFO4R"
      },
      "execution_count": null,
      "outputs": []
    },
    {
      "cell_type": "code",
      "source": [
        "# Write a program to create an abstract class Shape with a method area(). Derive classes Circle and Rectangle\n",
        "from it and implement the area() method in both.\n",
        "'''\n",
        "from abc import ABC, abstractmethod\n",
        "import math\n",
        "\n",
        "# Abstract class\n",
        "class Shape(ABC):\n",
        "    @abstractmethod\n",
        "    def area(self):\n",
        "        pass\n",
        "\n",
        "# Derived class Circle\n",
        "class Circle(Shape):\n",
        "    def __init__(self, radius):\n",
        "        self.radius = radius\n",
        "\n",
        "    def area(self):\n",
        "        return math.pi * (self.radius ** 2)\n",
        "\n",
        "# Derived class Rectangle\n",
        "class Rectangle(Shape):\n",
        "    def __init__(self, width, height):\n",
        "        self.width = width\n",
        "        self.height = height\n",
        "\n",
        "    def area(self):\n",
        "        return self.width * self.height\n",
        "\n",
        "# Example usage\n",
        "circle = Circle(5)\n",
        "print(f\"Circle area: {circle.area()}\")\n",
        "\n",
        "rectangle = Rectangle(4, 6)\n",
        "print(f\"Rectangle area: {rectangle.area()}\")\n",
        "'''"
      ],
      "metadata": {
        "id": "3frrjnBAFtUW"
      },
      "execution_count": null,
      "outputs": []
    },
    {
      "cell_type": "code",
      "source": [
        "#  Implement a multi-level inheritance scenario where a class Vehicle has an attribute type. Derive a class Car\n",
        "and further derive a class ElectricCar that adds a battery attribute.\n",
        "'''\n",
        "class Vehicle:\n",
        "    def __init__(self, vehicle_type):\n",
        "        self.vehicle_type = vehicle_type\n",
        "\n",
        "    def display_type(self):\n",
        "        print(f\"This is a {self.vehicle_type}\")\n",
        "\n",
        "# Derived class Car\n",
        "class Car(Vehicle):\n",
        "    def __init__(self, vehicle_type, make, model):\n",
        "        super().__init__(vehicle_type)\n",
        "        self.make = make\n",
        "        self.model = model\n",
        "\n",
        "    def display_car_info(self):\n",
        "        print(f\"Car: {self.make} {self.model}\")\n",
        "\n",
        "# Further derived class ElectricCar\n",
        "class ElectricCar(Car):\n",
        "    def __init__(self, vehicle_type, make, model, battery_capacity):\n",
        "        super().__init__(vehicle_type, make, model)\n",
        "        self.battery_capacity = battery_capacity\n",
        "\n",
        "    def display_battery_info(self):\n",
        "        print(f\"Battery capacity: {self.battery_capacity} kWh\")\n",
        "\n",
        "# Example usage\n",
        "vehicle = Vehicle(\"General Vehicle\")\n",
        "vehicle.display_type()\n",
        "\n",
        "car = Car(\"Car\", \"Toyota\", \"Camry\")\n",
        "car.display_type()\n",
        "car.display_car_info()\n",
        "\n",
        "electric_car = ElectricCar(\"Electric Car\", \"Tesla\", \"Model S\", 100)\n",
        "electric_car.display_type()\n",
        "electric_car.display_car_info()\n",
        "electric_car.display_battery_info()\n",
        "Output:\n",
        "This is a General Vehicle\n",
        "This is a Car\n",
        "Car: Toyota Camry\n",
        "This is a Electric Car\n",
        "Car: Tesla Model S\n",
        "Battery capacity: 100 kWh\n",
        "'''"
      ],
      "metadata": {
        "id": "C0htL4RlGA29"
      },
      "execution_count": null,
      "outputs": []
    },
    {
      "cell_type": "code",
      "source": [
        "# Write a program to demonstrate encapsulation by creating a class BankAccount with private attributes\n",
        "balance and methods to deposit, withdraw, and check balance.\n",
        "'''\n",
        " that demonstrates encapsulation by creating a BankAccount class with private attributes for balance and methods to deposit, withdraw, and check the balance:\n",
        "\n",
        "python\n",
        "Copy\n",
        "Edit\n",
        "class BankAccount:\n",
        "    def __init__(self, initial_balance=0):\n",
        "        self.__balance = initial_balance  # Private attribute\n",
        "\n",
        "    # Method to deposit money\n",
        "    def deposit(self, amount):\n",
        "        if amount > 0:\n",
        "            self.__balance += amount\n",
        "            print(f\"Deposited {amount}. New balance: {self.__balance}\")\n",
        "        else:\n",
        "            print(\"Deposit amount must be positive.\")\n",
        "\n",
        "    # Method to withdraw money\n",
        "    def withdraw(self, amount):\n",
        "        if amount > 0 and amount <= self.__balance:\n",
        "            self.__balance -= amount\n",
        "            print(f\"Withdrew {amount}. New balance: {self.__balance}\")\n",
        "        else:\n",
        "            print(\"Invalid withdrawal amount or insufficient balance.\")\n",
        "\n",
        "    # Method to check balance\n",
        "    def check_balance(self):\n",
        "        print(f\"Current balance: {self.__balance}\")\n",
        "\n",
        "# Example usage\n",
        "account = BankAccount(1000)  # Initial balance of 1000\n",
        "account.check_balance()  # Check balance\n",
        "account.deposit(500)  # Deposit 500\n",
        "account.withdraw(200)  # Withdraw 200\n",
        "account.check_balance()  # Check balance again\n",
        "account.withdraw(1500)  # Invalid withdrawal\n",
        "'''"
      ],
      "metadata": {
        "id": "x6y9Ma3-GqI2"
      },
      "execution_count": null,
      "outputs": []
    },
    {
      "cell_type": "code",
      "source": [
        "#  Demonstrate runtime polymorphism using a method play() in a base class Instrument. Derive classes Guitar\n",
        "and Piano that implement their own version of play().\n",
        "'''\n",
        "#include <iostream>\n",
        "using namespace std;\n",
        "\n",
        "// Base class\n",
        "class Instrument {\n",
        "public:\n",
        "    virtual void play() { // Virtual function for runtime polymorphism\n",
        "        cout << \"Playing an instrument\" << endl;\n",
        "    }\n",
        "    virtual ~Instrument() {} // Virtual destructor\n",
        "};\n",
        "\n",
        "// Derived class - Guitar\n",
        "class Guitar : public Instrument {\n",
        "public:\n",
        "    void play() override { // Overriding play() method\n",
        "        cout << \"Strumming the guitar\" << endl;\n",
        "    }\n",
        "};\n",
        "\n",
        "// Derived class - Piano\n",
        "class Piano : public Instrument {\n",
        "public:\n",
        "    void play() override { // Overriding play() method\n",
        "        cout << \"Playing the piano\" << endl;\n",
        "    }\n",
        "};\n",
        "\n",
        "// Main function to demonstrate runtime polymorphism\n",
        "int main() {\n",
        "    Instrument* inst1 = new Guitar(); // Base class pointer to Guitar object\n",
        "    Instrument* inst2 = new Piano();  // Base class pointer to Piano object\n",
        "\n",
        "    inst1->play(); // Calls Guitar's play()\n",
        "    inst2->play(); // Calls Piano's play()\n",
        "\n",
        "    // Clean up memory\n",
        "    delete inst1;\n",
        "    delete inst2;\n",
        "\n",
        "    return 0;\n",
        "}\n",
        "'''"
      ],
      "metadata": {
        "id": "NZPo-C_NHZat"
      },
      "execution_count": null,
      "outputs": []
    },
    {
      "cell_type": "code",
      "source": [
        "# Create a class MathOperations with a class method add_numbers() to add two numbers and a static\n",
        "method subtract_numbers() to subtract two numbers.\n",
        "'''\n",
        "class MathOperations:\n",
        "    # Class method to add two numbers\n",
        "    @classmethod\n",
        "    def add_numbers(cls, a, b):\n",
        "        return a + b\n",
        "\n",
        "    # Static method to subtract two numbers\n",
        "    @staticmethod\n",
        "    def subtract_numbers(a, b):\n",
        "        return a - b\n",
        "\n",
        "# Testing the MathOperations class\n",
        "print(\"Addition:\", MathOperations.add_numbers(10, 5))    # Using class method\n",
        "print(\"Subtraction:\", MathOperations.subtract_numbers(10, 5))  # Using static method\n",
        "'''"
      ],
      "metadata": {
        "id": "a3p99cteWvxI"
      },
      "execution_count": null,
      "outputs": []
    },
    {
      "cell_type": "code",
      "source": [
        "# Implement a class Person with a class method to count the total number of persons created.\n",
        "'''\n",
        "class Person:\n",
        "    count = 0  # Class variable to keep track of the number of instances\n",
        "\n",
        "    def __init__(self, name):\n",
        "        self.name = name\n",
        "        Person.count += 1  # Increment count when a new object is created\n",
        "\n",
        "    @classmethod\n",
        "    def total_persons(cls):\n",
        "        return cls.count  # Return the total count of persons\n",
        "\n",
        "# Creating instances of Person\n",
        "p1 = Person(\"Alice\")\n",
        "p2 = Person(\"Bob\")\n",
        "p3 = Person(\"Charlie\")\n",
        "\n",
        "# Getting the total number of persons created\n",
        "print(\"Total persons created:\", Person.total_persons())\n",
        "'''"
      ],
      "metadata": {
        "id": "yTEaL2YXXP4K"
      },
      "execution_count": null,
      "outputs": []
    },
    {
      "cell_type": "code",
      "source": [
        "#  Write a class Fraction with attributes numerator and denominator. Override the str method to display the\n",
        "fraction as \"numerator/denominator\".\n",
        "'''\n",
        "class Fraction:\n",
        "    def __init__(self, numerator, denominator):\n",
        "        if denominator == 0:\n",
        "            raise ValueError(\"Denominator cannot be zero\")  # Handling division by zero\n",
        "        self.numerator = numerator\n",
        "        self.denominator = denominator\n",
        "\n",
        "    def __str__(self):\n",
        "        return f\"{self.numerator}/{self.denominator}\"  # Overriding __str__ to display fraction\n",
        "\n",
        "# Testing the Fraction class\n",
        "f1 = Fraction(3, 4)\n",
        "f2 = Fraction(5, 2)\n",
        "\n",
        "print(f1)  # Output: 3/4\n",
        "print(f2)  # Output: 5/2\n",
        "'''"
      ],
      "metadata": {
        "id": "QvvsLkA-XmRz"
      },
      "execution_count": null,
      "outputs": []
    },
    {
      "cell_type": "code",
      "source": [
        "#  Demonstrate operator overloading by creating a class Vector and overriding the add method to add two\n",
        "vectors.\n",
        "'''\n",
        "class Vector:\n",
        "    def __init__(self, x, y):\n",
        "        self.x = x\n",
        "        self.y = y\n",
        "\n",
        "    def __add__(self, other):\n",
        "        if not isinstance(other, Vector):\n",
        "            return NotImplemented  # Ensuring addition is only with another Vector\n",
        "        return Vector(self.x + other.x, self.y + other.y)  # Adding corresponding components\n",
        "\n",
        "    def __str__(self):\n",
        "        return f\"({self.x}, {self.y})\"  # Overriding __str__ to display vector\n",
        "\n",
        "# Testing the Vector class\n",
        "v1 = Vector(2, 3)\n",
        "v2 = Vector(4, 5)\n",
        "\n",
        "v3 = v1 + v2  # Uses the overloaded __add__ method\n",
        "\n",
        "print(\"Vector 1:\", v1)  # Output: (2, 3)\n",
        "print(\"Vector 2:\", v2)  # Output: (4, 5)\n",
        "print(\"Sum of Vectors:\", v3)  # Output: (6, 8)\n",
        "'''"
      ],
      "metadata": {
        "id": "x2JE-I7wX22F"
      },
      "execution_count": null,
      "outputs": []
    },
    {
      "cell_type": "code",
      "source": [
        "#  Create a class Person with attributes name and age. Add a method greet() that prints \"Hello, my name is\n",
        "{name} and I am {age} years old.\"\n",
        "'''\n",
        "class Person:\n",
        "    def __init__(self, name, age):\n",
        "        self.name = name\n",
        "        self.age = age\n",
        "\n",
        "    def greet(self):\n",
        "        print(f\"Hello, my name is {self.name} and I am {self.age} years old.\")\n",
        "\n",
        "# Testing the Person class\n",
        "p1 = Person(\"Alice\", 25)\n",
        "p2 = Person(\"Bob\", 30)\n",
        "\n",
        "p1.greet()  # Output: Hello, my name is Alice and I am 25 years old.\n",
        "p2.greet()  # Output: Hello, my name is Bob and I am 30 years old.\n",
        "'''"
      ],
      "metadata": {
        "id": "sBVrjvprYOJj"
      },
      "execution_count": null,
      "outputs": []
    },
    {
      "cell_type": "code",
      "source": [
        "#  Implement a class Student with attributes name and grades. Create a method average_grade() to compute\n",
        "the average of the grades.\n",
        "'''\n",
        "class Student:\n",
        "    def __init__(self, name, grades):\n",
        "        self.name = name\n",
        "        self.grades = grades  # List of grades\n",
        "\n",
        "    def average_grade(self):\n",
        "        if not self.grades:  # Handle case with no grades\n",
        "            return 0\n",
        "        return sum(self.grades) / len(self.grades)  # Compute average\n",
        "\n",
        "    def __str__(self):\n",
        "        return f\"Student: {self.name}, Average Grade: {self.average_grade():.2f}\"\n",
        "\n",
        "# Testing the Student class\n",
        "s1 = Student(\"Alice\", [85, 90, 78, 92])\n",
        "s2 = Student(\"Bob\", [88, 76, 95, 89])\n",
        "\n",
        "print(s1)  # Output: Student: Alice, Average Grade: 86.25\n",
        "print(s2)  # Output: Student: Bob, Average Grade: 87.00\n",
        "'''"
      ],
      "metadata": {
        "id": "B0z5E_0RYfmS"
      },
      "execution_count": null,
      "outputs": []
    },
    {
      "cell_type": "code",
      "source": [
        "#  Create a class Rectangle with methods set_dimensions() to set the dimensions and area() to calculate the\n",
        "area.\n",
        "'''\n",
        "class Rectangle:\n",
        "    def __init__(self, length=0, width=0):\n",
        "        self.length = length\n",
        "        self.width = width\n",
        "\n",
        "    def set_dimensions(self, length, width):\n",
        "        self.length = length\n",
        "        self.width = width\n",
        "\n",
        "    def area(self):\n",
        "        return self.length * self.width\n",
        "\n",
        "    def __str__(self):\n",
        "        return f\"Rectangle: Length={self.length}, Width={self.width}, Area={self.area()}\"\n",
        "\n",
        "# Testing the Rectangle class\n",
        "rect = Rectangle()  # Creating an object with default dimensions\n",
        "rect.set_dimensions(5, 10)  # Setting dimensions\n",
        "print(rect)  # Output: Rectangle: Length=5, Width=10, Area=50\n",
        "'''"
      ],
      "metadata": {
        "id": "yAXe14oKZA_l"
      },
      "execution_count": null,
      "outputs": []
    },
    {
      "cell_type": "code",
      "source": [
        "# Create a class Employee with a method calculate_salary() that computes the salary based on hours worked\n",
        "and hourly rate. Create a derived class Manager that adds a bonus to the salary\n",
        "'''\n",
        "class Employee:\n",
        "    def __init__(self, name, hours_worked, hourly_rate):\n",
        "        self.name = name\n",
        "        self.hours_worked = hours_worked\n",
        "        self.hourly_rate = hourly_rate\n",
        "\n",
        "    def calculate_salary(self):\n",
        "        return self.hours_worked * self.hourly_rate  # Basic salary calculation\n",
        "\n",
        "    def __str__(self):\n",
        "        return f\"Employee: {self.name}, Salary: ${self.calculate_salary():.2f}\"\n",
        "\n",
        "# Derived class Manager with a bonus attribute\n",
        "class Manager(Employee):\n",
        "    def __init__(self, name, hours_worked, hourly_rate, bonus):\n",
        "        super().__init__(name, hours_worked, hourly_rate)  # Inherit from Employee\n",
        "        self.bonus = bonus\n",
        "\n",
        "    def calculate_salary(self):\n",
        "        return super().calculate_salary() + self.bonus  # Add bonus to salary\n",
        "\n",
        "    def __str__(self):\n",
        "        return f\"Manager: {self.name}, Salary (with bonus): ${self.calculate_salary():.2f}\"\n",
        "\n",
        "# Testing the classes\n",
        "emp = Employee(\"Alice\", 40, 20)  # 40 hours, $20 per hour\n",
        "mgr = Manager(\"Bob\", 40, 30, 500)  # 40 hours, $30 per hour + $500 bonus\n",
        "\n",
        "print(emp)  # Output: Employee: Alice, Salary: $800.00\n",
        "print(mgr)  # Output: Manager: Bob, Salary (with bonus): $1700.00\n",
        "'''"
      ],
      "metadata": {
        "id": "nVjF-fLBZR-4"
      },
      "execution_count": null,
      "outputs": []
    },
    {
      "cell_type": "code",
      "source": [
        "#  Create a class Product with attributes name, price, and quantity. Implement a method total_price() that\n",
        "calculates the total price of the product.\n",
        "'''\n",
        "class Product:\n",
        "    def __init__(self, name, price, quantity):\n",
        "        self.name = name\n",
        "        self.price = price\n",
        "        self.quantity = quantity\n",
        "\n",
        "    def total_price(self):\n",
        "        return self.price * self.quantity  # Calculate total price\n",
        "\n",
        "    def __str__(self):\n",
        "        return f\"Product: {self.name}, Price: ${self.price:.2f}, Quantity: {self.quantity}, Total Price: ${self.total_price():.2f}\"\n",
        "\n",
        "# Testing the Product class\n",
        "p1 = Product(\"Laptop\", 800, 2)\n",
        "p2 = Product(\"Phone\", 500, 3)\n",
        "\n",
        "print(p1)  # Output: Product: Laptop, Price: $800.00, Quantity: 2, Total Price: $1600.00\n",
        "print(p2)  # Output: Product: Phone, Price: $500.00, Quantity: 3, Total Price: $1500.00\n",
        "'''"
      ],
      "metadata": {
        "id": "0J20Wb00Zs5m"
      },
      "execution_count": null,
      "outputs": []
    },
    {
      "cell_type": "code",
      "source": [
        "Create a class Animal with an abstract method sound(). Create two derived classes Cow and Sheep that\n",
        "implement the sound() method.\n",
        "'''\n",
        "from abc import ABC, abstractmethod\n",
        "\n",
        "# Abstract base class Animal\n",
        "class Animal(ABC):\n",
        "    @abstractmethod\n",
        "    def sound(self):\n",
        "        pass  # Abstract method to be implemented by derived classes\n",
        "\n",
        "# Derived class Cow\n",
        "class Cow(Animal):\n",
        "    def sound(self):\n",
        "        return \"Moo\"\n",
        "\n",
        "# Derived class Sheep\n",
        "class Sheep(Animal):\n",
        "    def sound(self):\n",
        "        return \"Baa\"\n",
        "\n",
        "# Testing the classes\n",
        "cow = Cow()\n",
        "sheep = Sheep()\n",
        "\n",
        "print(f\"Cow makes sound: {cow.sound()}\")  # Output: Moo\n",
        "print(f\"Sheep makes sound: {sheep.sound()}\")  # Output: Baa\n",
        "'''"
      ],
      "metadata": {
        "id": "xFUtIUpDZ_iX"
      },
      "execution_count": null,
      "outputs": []
    },
    {
      "cell_type": "code",
      "source": [
        "# Create a class Book with attributes title, author, and year_published. Add a method get_book_info() that\n",
        "returns a formatted string with the book's details.\n",
        "'''\n",
        "class Book:\n",
        "    def __init__(self, title, author, year_published):\n",
        "        self.title = title\n",
        "        self.author = author\n",
        "        self.year_published = year_published\n",
        "\n",
        "    def get_book_info(self):\n",
        "        return f\"Title: {self.title}, Author: {self.author}, Year Published: {self.year_published}\"\n",
        "\n",
        "# Testing the Book class\n",
        "book1 = Book(\"The Great Gatsby\", \"F. Scott Fitzgerald\", 1925)\n",
        "book2 = Book(\"1984\", \"George Orwell\", 1949)\n",
        "\n",
        "print(book1.get_book_info())  # Output: Title: The Great Gatsby, Author: F. Scott Fitzgerald, Year Published: 1925\n",
        "print(book2.get_book_info())  # Output: Title: 1984, Author: George Orwell, Year Published: 1949\n",
        "'''"
      ],
      "metadata": {
        "id": "6eQ_VvOGaeiM"
      },
      "execution_count": null,
      "outputs": []
    },
    {
      "cell_type": "code",
      "source": [
        "#Create a class House with attributes address and price. Create a derived class Mansion that adds an\n",
        "attribute number_of_rooms.\n",
        "'''\n",
        "# Base class House\n",
        "class House:\n",
        "    def __init__(self, address, price):\n",
        "        self.address = address\n",
        "        self.price = price\n",
        "\n",
        "    def get_house_info(self):\n",
        "        return f\"Address: {self.address}, Price: ${self.price}\"\n",
        "\n",
        "# Derived class Mansion\n",
        "class Mansion(House):\n",
        "    def __init__(self, address, price, number_of_rooms):\n",
        "        super().__init__(address, price)  # Inherit attributes from House\n",
        "        self.number_of_rooms = number_of_rooms\n",
        "\n",
        "    def get_mansion_info(self):\n",
        "        return f\"{self.get_house_info()}, Number of Rooms: {self.number_of_rooms}\"\n",
        "\n",
        "# Testing the classes\n",
        "house = House(\"123 Main St\", 250000)\n",
        "mansion = Mansion(\"456 Luxury Ave\", 5000000, 10)\n",
        "\n",
        "print(house.get_house_info())  # Output: Address: 123 Main St, Price: $250000\n",
        "print(mansion.get_mansion_info())  # Output: Address: 456 Luxury Ave, Price: $5000000, Number of Rooms: 10\n",
        "'''"
      ],
      "metadata": {
        "id": "61TgLXz5bVMM"
      },
      "execution_count": null,
      "outputs": []
    }
  ]
}